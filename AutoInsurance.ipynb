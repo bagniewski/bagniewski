{
  "nbformat": 4,
  "nbformat_minor": 0,
  "metadata": {
    "colab": {
      "name": "AutoInsurance.ipynb",
      "provenance": [],
      "collapsed_sections": [],
      "authorship_tag": "ABX9TyP/w1h+O6LIZobWCZexlKbW",
      "include_colab_link": true
    },
    "kernelspec": {
      "name": "python3",
      "display_name": "Python 3"
    },
    "language_info": {
      "name": "python"
    }
  },
  "cells": [
    {
      "cell_type": "markdown",
      "metadata": {
        "id": "view-in-github",
        "colab_type": "text"
      },
      "source": [
        "<a href=\"https://colab.research.google.com/github/bagniewski/bagniewski.github.io/blob/master/AutoInsurance.ipynb\" target=\"_parent\"><img src=\"https://colab.research.google.com/assets/colab-badge.svg\" alt=\"Open In Colab\"/></a>"
      ]
    },
    {
      "cell_type": "markdown",
      "source": [
        "# Auto Insurance Test\n",
        "\n",
        "Runs a code that makes a prediction on the dataset Auto Insurance based on the [Kaggle competition](https://www.kaggle.com/c/auto-insurance-fall-2017). \n",
        "\n",
        "The target for this project is TARGET_FLAG."
      ],
      "metadata": {
        "id": "jnEC9_EeNAz0"
      }
    },
    {
      "cell_type": "code",
      "source": [
        "#@title Import Libraries\n",
        "\n",
        "#@markdown Please execute this cell by pressing the Play button on the left \n",
        "\n",
        "import pandas as pd\n",
        "import numpy as np\n",
        "from sklearn.linear_model import LinearRegression\n",
        "from sklearn.model_selection import train_test_split\n",
        "from sklearn.metrics import mean_squared_error, r2_score\n"
      ],
      "metadata": {
        "id": "Z2pWb7sLNlt-"
      },
      "execution_count": 7,
      "outputs": []
    },
    {
      "cell_type": "code",
      "source": [
        "#@title Read the CSV files\n",
        "\n",
        "#@markdown Import train_auto.csv and test_auto.csv datasets\n",
        "\n",
        "data_test = pd.read_csv('https://raw.githubusercontent.com/descartes-underwriting/data-scientist-technical-test/main/data/auto-insurance-fall-2017/test_auto.csv')\n",
        "data_train = pd.read_csv('https://raw.githubusercontent.com/descartes-underwriting/data-scientist-technical-test/main/data/auto-insurance-fall-2017/train_auto.csv')\n",
        "\n"
      ],
      "metadata": {
        "id": "ywgeMwpxN6Y1"
      },
      "execution_count": 8,
      "outputs": []
    },
    {
      "cell_type": "code",
      "source": [
        "#@title Encode Data\n",
        "\n",
        "#@markdown Encode the data using Ordinal Encoding, and One-Hot Encoding\n",
        "\n",
        "# Ordinal Encoding\n",
        "data_train.INCOME = data_train.INCOME.str.replace(\"$\",\"\").str.replace(\",\",\"\")\n",
        "data_train.INCOME = pd.to_numeric(data_train.INCOME)\n",
        "data_train.PARENT1 = data_train.PARENT1.replace(\"No\",0).replace(\"Yes\",1)\n",
        "data_train.HOME_VAL = data_train.HOME_VAL.str.replace(\"$\",\"\").str.replace(\",\",\"\")\n",
        "data_train.HOME_VAL = pd.to_numeric(data_train.HOME_VAL)\n",
        "data_train.MSTATUS = data_train.MSTATUS.replace(\"z_No\",0).replace(\"Yes\",1)\n",
        "data_train.SEX = data_train.SEX.replace(\"M\",0).replace(\"z_F\",1)\n",
        "data_train.EDUCATION = data_train.EDUCATION.replace(\"<High School\",0).replace(\"z_High School\",1).replace(\"Bachelors\",2).replace(\"Masters\",3).replace(\"PhD\",4)\n",
        "data_train.CAR_USE = data_train.CAR_USE.replace(\"Commercial\",0).replace(\"Private\",1)\n",
        "data_train.BLUEBOOK = data_train.BLUEBOOK.str.replace(\"$\",\"\").str.replace(\",\",\"\")\n",
        "data_train.BLUEBOOK = pd.to_numeric(data_train.BLUEBOOK)\n",
        "data_train.RED_CAR = data_train.RED_CAR.replace(\"no\",0).replace(\"yes\",1)\n",
        "data_train.OLDCLAIM = data_train.OLDCLAIM.str.replace(\"$\",\"\").str.replace(\",\",\"\")\n",
        "data_train.OLDCLAIM = pd.to_numeric(data_train.OLDCLAIM)\n",
        "data_train.REVOKED = data_train.REVOKED.replace(\"No\",0).replace(\"Yes\",1)\n",
        "data_train.URBANICITY = data_train.URBANICITY.replace(\"z_Highly Rural/ Rural\",0).replace(\"Highly Urban/ Urban\",1)\n",
        "data_test.INCOME = data_test.INCOME.str.replace(\"$\",\"\").str.replace(\",\",\"\")\n",
        "data_test.INCOME = pd.to_numeric(data_test.INCOME)\n",
        "data_test.PARENT1 = data_test.PARENT1.replace(\"No\",0).replace(\"Yes\",1)\n",
        "data_test.HOME_VAL = data_test.HOME_VAL.str.replace(\"$\",\"\").str.replace(\",\",\"\")\n",
        "data_test.HOME_VAL = pd.to_numeric(data_test.HOME_VAL)\n",
        "data_test.MSTATUS = data_test.MSTATUS.replace(\"z_No\",0).replace(\"Yes\",1)\n",
        "data_test.SEX = data_test.SEX.replace(\"M\",0).replace(\"z_F\",1)\n",
        "data_test.EDUCATION = data_test.EDUCATION.replace(\"<High School\",0).replace(\"z_High School\",1).replace(\"Bachelors\",2).replace(\"Masters\",3).replace(\"PhD\",4)\n",
        "data_test.CAR_USE = data_test.CAR_USE.replace(\"Commercial\",0).replace(\"Private\",1)\n",
        "data_test.BLUEBOOK = data_test.BLUEBOOK.str.replace(\"$\",\"\").str.replace(\",\",\"\")\n",
        "data_test.BLUEBOOK = pd.to_numeric(data_test.BLUEBOOK)\n",
        "data_test.RED_CAR = data_test.RED_CAR.replace(\"no\",0).replace(\"yes\",1)\n",
        "data_test.OLDCLAIM = data_test.OLDCLAIM.str.replace(\"$\",\"\").str.replace(\",\",\"\")\n",
        "data_test.OLDCLAIM = pd.to_numeric(data_test.OLDCLAIM)\n",
        "data_test.REVOKED = data_test.REVOKED.replace(\"No\",0).replace(\"Yes\",1)\n",
        "data_test.URBANICITY = data_test.URBANICITY.replace(\"z_Highly Rural/ Rural\",0).replace(\"Highly Urban/ Urban\",1)\n",
        "\n",
        "# One-Hot Encoding\n",
        "data_train = pd.get_dummies(data=data_train,columns=['JOB','CAR_TYPE'])\n",
        "data_test = pd.get_dummies(data=data_test,columns=['JOB','CAR_TYPE'])\n",
        "\n",
        "#@markdown Imput missing values\n",
        "\n",
        "# Fill in the missing values with the mean for the column \n",
        "data_train.AGE = data_train.AGE.fillna(np.nanmean(data_train.AGE))\n",
        "data_train.YOJ = data_train.YOJ.fillna(np.nanmean(data_train.YOJ))\n",
        "data_train.INCOME = data_train.INCOME.fillna(np.nanmean(data_train.INCOME))\n",
        "data_train.HOME_VAL = data_train.HOME_VAL.fillna(np.nanmean(data_train.HOME_VAL))\n",
        "data_train.CAR_AGE = data_train.CAR_AGE.fillna(np.nanmean(data_train.CAR_AGE))\n",
        "data_test.AGE = data_test.AGE.fillna(np.nanmean(data_test.AGE))\n",
        "data_test.YOJ = data_test.YOJ.fillna(np.nanmean(data_test.YOJ))\n",
        "data_test.INCOME = data_test.INCOME.fillna(np.nanmean(data_test.INCOME))\n",
        "data_test.HOME_VAL = data_test.HOME_VAL.fillna(np.nanmean(data_test.HOME_VAL))\n",
        "data_test.CAR_AGE = data_test.CAR_AGE.fillna(np.nanmean(data_test.CAR_AGE))\n"
      ],
      "metadata": {
        "id": "4wIG3j3PLx5v"
      },
      "execution_count": 9,
      "outputs": []
    },
    {
      "cell_type": "code",
      "source": [
        "#@title Linear regression model\n",
        "\n",
        "# Define X_train, y_train, and X_test\n",
        "X_train = data_train.drop(['INDEX','TARGET_FLAG','TARGET_AMT'], axis=1)\n",
        "y_train = data_train['TARGET_FLAG']\n",
        "X_test = data_test.drop(['INDEX','TARGET_FLAG','TARGET_AMT'], axis=1)\n",
        "# Create the linear regression model\n",
        "model = LinearRegression()\n",
        "model.fit(X_train, y_train)\n",
        "\n",
        "#@markdown Assess the model’s performance\n",
        "\n",
        "y_pred = model.predict(X_train)\n",
        "print('Root Mean Squared Error: %.2f' % np.sqrt(mean_squared_error(y_train, y_pred))) \n",
        "print('R²: %.2f' % r2_score(y_train, y_pred))\n",
        "\n",
        "#@markdown Predict TARGET_FLAG for test_auto\n",
        "\n",
        "y_test = model.predict(X_test)\n"
      ],
      "metadata": {
        "colab": {
          "base_uri": "https://localhost:8080/"
        },
        "id": "643JITzHPMrF",
        "outputId": "f5a860f1-98f9-4b60-fb72-7dc614dcf358"
      },
      "execution_count": 10,
      "outputs": [
        {
          "output_type": "stream",
          "name": "stdout",
          "text": [
            "Root Mean Squared Error: 0.39\n",
            "R²: 0.23\n"
          ]
        }
      ]
    },
    {
      "cell_type": "code",
      "source": [
        "#@title Export the data\n",
        "\n",
        "df = pd.DataFrame({'p_target': y_test})\n",
        "df.to_csv('p_target.csv', index = False)"
      ],
      "metadata": {
        "id": "T3JS29r_Xdks"
      },
      "execution_count": 11,
      "outputs": []
    },
    {
      "cell_type": "markdown",
      "source": [
        ""
      ],
      "metadata": {
        "id": "AzY7_JVEN7sT"
      }
    }
  ]
}